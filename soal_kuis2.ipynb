{
 "cells": [
  {
   "cell_type": "markdown",
   "metadata": {},
   "source": [
    "# KUIS 2 Pembelajaran Mesin\n",
    "\n",
    "## Tentang dataset\n",
    "\n",
    "Pada sebuah lembaga kemanusiaan berbasis teknologi informasi, dibentuk beberapa tim kemanusiaan yang bertugas untuk terjun ke masyarakat memberikan bantuan dalam bentuk aplikasi komputer atau layanan pelatihan IT.  Kegiatn tersebut dilaksanakan setiap tahun dengan ketentuan anggota organisasi tersebut dapat bergabung ke beberapa tim sebagai ketua atau anggota. Terdapat pula anggota yang sudah tidak aktif di organisasi tersebut (terhapus di database mereka —> label N/A).  Organisasi tersebut juga melakukan rekrutmen volunteer, namun tidak semua tim menggunakan bantuan volunteer. Hasil kegiatan dari setiap tim dapat diwujudkan ke dalam sebuah pengakuan hak cipta atau publikasi karya ilmiah atau publikasi berita di media massa.\n",
    "\n",
    "## Ketentuan\n",
    "1. Pengerjaan secara individu alias setiap mahasiswa!\n",
    "2. Terdapat data dengan nilai #N/A, pertimbangkan cara terbaik untuk mengatasi nilai tersebut.\n",
    "3. Tidak boleh ada duplikasi pekerjaan antar mahasiswa\n",
    "4. Berikan penjelasan untuk setiap tahapan. Jangan hanya kode!\n",
    "\n",
    "## Soal\n",
    "1. Lakukan pemilahan data training dan testing yang sesuai dan proporsional dari data tersebut! (10 poin)\n",
    "2. Tentukan data validasi! (10 poin)\n",
    "3. Tentukan secara tepat kolom yang menjadi \"label\" (20 poin)\n",
    "4. Terapkan dua jenis metode klasifikasi dan lakukan perbandingan akurasi  dengan wajib melibatkan variabel keterlibatan volunteer sampai variabel luaran-luaran yang dihasilkan! (20 poin)\n",
    "5. Lakukan tunning hyperparameter berdasarkan hasil klasifikasi pada nomor 3 menggunakan metode Grid Search dan Random Search! Simpulkan parameter apa yang paling baik digunakan berdasarkan metode klasifikasi yang dipilih, dan berapa akurasinya. (40 poin)"
   ]
  },
  {
   "cell_type": "code",
   "execution_count": 102,
   "metadata": {},
   "outputs": [
    {
     "data": {
      "text/html": [
       "<div>\n",
       "<style scoped>\n",
       "    .dataframe tbody tr th:only-of-type {\n",
       "        vertical-align: middle;\n",
       "    }\n",
       "\n",
       "    .dataframe tbody tr th {\n",
       "        vertical-align: top;\n",
       "    }\n",
       "\n",
       "    .dataframe thead th {\n",
       "        text-align: right;\n",
       "    }\n",
       "</style>\n",
       "<table border=\"1\" class=\"dataframe\">\n",
       "  <thead>\n",
       "    <tr style=\"text-align: right;\">\n",
       "      <th></th>\n",
       "      <th>id_ketua</th>\n",
       "      <th>id_anggota1</th>\n",
       "      <th>id_anggota2</th>\n",
       "      <th>id_anggota3</th>\n",
       "      <th>id_anggota4</th>\n",
       "      <th>id_anggota5</th>\n",
       "      <th>keterlibatan_vltr</th>\n",
       "      <th>jml_vltr_terlibat</th>\n",
       "      <th>tahun</th>\n",
       "      <th>skema</th>\n",
       "      <th>luaran_hki</th>\n",
       "      <th>jenis_luaran_hki</th>\n",
       "      <th>potensi_hki</th>\n",
       "      <th>luaran_lain</th>\n",
       "      <th>jenis_luaran_lain</th>\n",
       "      <th>status_luaran_lain</th>\n",
       "    </tr>\n",
       "  </thead>\n",
       "  <tbody>\n",
       "    <tr>\n",
       "      <th>0</th>\n",
       "      <td>7206.0</td>\n",
       "      <td>7214.0</td>\n",
       "      <td>6211.0</td>\n",
       "      <td>8602.0</td>\n",
       "      <td>7801.0</td>\n",
       "      <td>NaN</td>\n",
       "      <td>TIDAK</td>\n",
       "      <td>0</td>\n",
       "      <td>2019</td>\n",
       "      <td>REGULER</td>\n",
       "      <td>TIDAK ADA</td>\n",
       "      <td>TIDAK ADA</td>\n",
       "      <td>TIDAK</td>\n",
       "      <td>TIDAK ADA</td>\n",
       "      <td>TIDAK ADA</td>\n",
       "      <td>TIDAK ADA</td>\n",
       "    </tr>\n",
       "    <tr>\n",
       "      <th>1</th>\n",
       "      <td>7214.0</td>\n",
       "      <td>7109.0</td>\n",
       "      <td>8402.0</td>\n",
       "      <td>7903.0</td>\n",
       "      <td>9202.0</td>\n",
       "      <td>NaN</td>\n",
       "      <td>TIDAK</td>\n",
       "      <td>0</td>\n",
       "      <td>2019</td>\n",
       "      <td>REGULER</td>\n",
       "      <td>TIDAK ADA</td>\n",
       "      <td>TIDAK ADA</td>\n",
       "      <td>TIDAK</td>\n",
       "      <td>TIDAK ADA</td>\n",
       "      <td>TIDAK ADA</td>\n",
       "      <td>TIDAK ADA</td>\n",
       "    </tr>\n",
       "    <tr>\n",
       "      <th>2</th>\n",
       "      <td>5911.0</td>\n",
       "      <td>8201.0</td>\n",
       "      <td>8701.0</td>\n",
       "      <td>9101.0</td>\n",
       "      <td>9003.0</td>\n",
       "      <td>NaN</td>\n",
       "      <td>TIDAK</td>\n",
       "      <td>0</td>\n",
       "      <td>2019</td>\n",
       "      <td>REGULER</td>\n",
       "      <td>TIDAK ADA</td>\n",
       "      <td>TIDAK ADA</td>\n",
       "      <td>TIDAK</td>\n",
       "      <td>TIDAK ADA</td>\n",
       "      <td>TIDAK ADA</td>\n",
       "      <td>TIDAK ADA</td>\n",
       "    </tr>\n",
       "    <tr>\n",
       "      <th>3</th>\n",
       "      <td>8402.0</td>\n",
       "      <td>7702.0</td>\n",
       "      <td>8602.0</td>\n",
       "      <td>8903.0</td>\n",
       "      <td>8903.0</td>\n",
       "      <td>NaN</td>\n",
       "      <td>TIDAK</td>\n",
       "      <td>0</td>\n",
       "      <td>2019</td>\n",
       "      <td>REGULER</td>\n",
       "      <td>TIDAK ADA</td>\n",
       "      <td>TIDAK ADA</td>\n",
       "      <td>TIDAK</td>\n",
       "      <td>TIDAK ADA</td>\n",
       "      <td>TIDAK ADA</td>\n",
       "      <td>TIDAK ADA</td>\n",
       "    </tr>\n",
       "    <tr>\n",
       "      <th>4</th>\n",
       "      <td>8201.0</td>\n",
       "      <td>8305.0</td>\n",
       "      <td>5911.0</td>\n",
       "      <td>5903.0</td>\n",
       "      <td>8402.0</td>\n",
       "      <td>NaN</td>\n",
       "      <td>TIDAK</td>\n",
       "      <td>0</td>\n",
       "      <td>2019</td>\n",
       "      <td>REGULER</td>\n",
       "      <td>TIDAK ADA</td>\n",
       "      <td>TIDAK ADA</td>\n",
       "      <td>TIDAK</td>\n",
       "      <td>TIDAK ADA</td>\n",
       "      <td>TIDAK ADA</td>\n",
       "      <td>TIDAK ADA</td>\n",
       "    </tr>\n",
       "    <tr>\n",
       "      <th>...</th>\n",
       "      <td>...</td>\n",
       "      <td>...</td>\n",
       "      <td>...</td>\n",
       "      <td>...</td>\n",
       "      <td>...</td>\n",
       "      <td>...</td>\n",
       "      <td>...</td>\n",
       "      <td>...</td>\n",
       "      <td>...</td>\n",
       "      <td>...</td>\n",
       "      <td>...</td>\n",
       "      <td>...</td>\n",
       "      <td>...</td>\n",
       "      <td>...</td>\n",
       "      <td>...</td>\n",
       "      <td>...</td>\n",
       "    </tr>\n",
       "    <tr>\n",
       "      <th>80</th>\n",
       "      <td>8803.0</td>\n",
       "      <td>8804.0</td>\n",
       "      <td>9102.0</td>\n",
       "      <td>8005.0</td>\n",
       "      <td>9303.0</td>\n",
       "      <td>NaN</td>\n",
       "      <td>YA</td>\n",
       "      <td>3</td>\n",
       "      <td>2022</td>\n",
       "      <td>REGULER</td>\n",
       "      <td>TIDAK ADA</td>\n",
       "      <td>TIDAK ADA</td>\n",
       "      <td>TIDAK</td>\n",
       "      <td>TIDAK ADA</td>\n",
       "      <td>TIDAK ADA</td>\n",
       "      <td>TIDAK ADA</td>\n",
       "    </tr>\n",
       "    <tr>\n",
       "      <th>81</th>\n",
       "      <td>6211.0</td>\n",
       "      <td>8901.0</td>\n",
       "      <td>9003.0</td>\n",
       "      <td>9303.0</td>\n",
       "      <td>9007.0</td>\n",
       "      <td>NaN</td>\n",
       "      <td>YA</td>\n",
       "      <td>3</td>\n",
       "      <td>2022</td>\n",
       "      <td>REGULER</td>\n",
       "      <td>TIDAK ADA</td>\n",
       "      <td>TIDAK ADA</td>\n",
       "      <td>TIDAK</td>\n",
       "      <td>TIDAK ADA</td>\n",
       "      <td>TIDAK ADA</td>\n",
       "      <td>TIDAK ADA</td>\n",
       "    </tr>\n",
       "    <tr>\n",
       "      <th>82</th>\n",
       "      <td>8601.0</td>\n",
       "      <td>8903.0</td>\n",
       "      <td>8703.0</td>\n",
       "      <td>NaN</td>\n",
       "      <td>NaN</td>\n",
       "      <td>NaN</td>\n",
       "      <td>YA</td>\n",
       "      <td>3</td>\n",
       "      <td>2022</td>\n",
       "      <td>REGULER</td>\n",
       "      <td>TIDAK ADA</td>\n",
       "      <td>TIDAK ADA</td>\n",
       "      <td>TIDAK</td>\n",
       "      <td>TIDAK ADA</td>\n",
       "      <td>TIDAK ADA</td>\n",
       "      <td>TIDAK ADA</td>\n",
       "    </tr>\n",
       "    <tr>\n",
       "      <th>83</th>\n",
       "      <td>8703.0</td>\n",
       "      <td>8601.0</td>\n",
       "      <td>9202.0</td>\n",
       "      <td>9102.0</td>\n",
       "      <td>6204.0</td>\n",
       "      <td>NaN</td>\n",
       "      <td>YA</td>\n",
       "      <td>3</td>\n",
       "      <td>2022</td>\n",
       "      <td>REGULER</td>\n",
       "      <td>TIDAK ADA</td>\n",
       "      <td>TIDAK ADA</td>\n",
       "      <td>TIDAK</td>\n",
       "      <td>TIDAK ADA</td>\n",
       "      <td>TIDAK ADA</td>\n",
       "      <td>TIDAK ADA</td>\n",
       "    </tr>\n",
       "    <tr>\n",
       "      <th>84</th>\n",
       "      <td>8102.0</td>\n",
       "      <td>7109.0</td>\n",
       "      <td>5903.0</td>\n",
       "      <td>7206.0</td>\n",
       "      <td>8903.0</td>\n",
       "      <td>NaN</td>\n",
       "      <td>TIDAK</td>\n",
       "      <td>0</td>\n",
       "      <td>2022</td>\n",
       "      <td>REGULER</td>\n",
       "      <td>TIDAK ADA</td>\n",
       "      <td>TIDAK ADA</td>\n",
       "      <td>TIDAK</td>\n",
       "      <td>TIDAK ADA</td>\n",
       "      <td>TIDAK ADA</td>\n",
       "      <td>TIDAK ADA</td>\n",
       "    </tr>\n",
       "  </tbody>\n",
       "</table>\n",
       "<p>85 rows × 16 columns</p>\n",
       "</div>"
      ],
      "text/plain": [
       "    id_ketua  id_anggota1  id_anggota2  id_anggota3  id_anggota4  id_anggota5  \\\n",
       "0     7206.0       7214.0       6211.0       8602.0       7801.0          NaN   \n",
       "1     7214.0       7109.0       8402.0       7903.0       9202.0          NaN   \n",
       "2     5911.0       8201.0       8701.0       9101.0       9003.0          NaN   \n",
       "3     8402.0       7702.0       8602.0       8903.0       8903.0          NaN   \n",
       "4     8201.0       8305.0       5911.0       5903.0       8402.0          NaN   \n",
       "..       ...          ...          ...          ...          ...          ...   \n",
       "80    8803.0       8804.0       9102.0       8005.0       9303.0          NaN   \n",
       "81    6211.0       8901.0       9003.0       9303.0       9007.0          NaN   \n",
       "82    8601.0       8903.0       8703.0          NaN          NaN          NaN   \n",
       "83    8703.0       8601.0       9202.0       9102.0       6204.0          NaN   \n",
       "84    8102.0       7109.0       5903.0       7206.0       8903.0          NaN   \n",
       "\n",
       "   keterlibatan_vltr  jml_vltr_terlibat  tahun    skema luaran_hki  \\\n",
       "0              TIDAK                  0   2019  REGULER  TIDAK ADA   \n",
       "1              TIDAK                  0   2019  REGULER  TIDAK ADA   \n",
       "2              TIDAK                  0   2019  REGULER  TIDAK ADA   \n",
       "3              TIDAK                  0   2019  REGULER  TIDAK ADA   \n",
       "4              TIDAK                  0   2019  REGULER  TIDAK ADA   \n",
       "..               ...                ...    ...      ...        ...   \n",
       "80                YA                  3   2022  REGULER  TIDAK ADA   \n",
       "81                YA                  3   2022  REGULER  TIDAK ADA   \n",
       "82                YA                  3   2022  REGULER  TIDAK ADA   \n",
       "83                YA                  3   2022  REGULER  TIDAK ADA   \n",
       "84             TIDAK                  0   2022  REGULER  TIDAK ADA   \n",
       "\n",
       "   jenis_luaran_hki potensi_hki luaran_lain jenis_luaran_lain  \\\n",
       "0         TIDAK ADA       TIDAK   TIDAK ADA         TIDAK ADA   \n",
       "1         TIDAK ADA       TIDAK   TIDAK ADA         TIDAK ADA   \n",
       "2         TIDAK ADA       TIDAK   TIDAK ADA         TIDAK ADA   \n",
       "3         TIDAK ADA       TIDAK   TIDAK ADA         TIDAK ADA   \n",
       "4         TIDAK ADA       TIDAK   TIDAK ADA         TIDAK ADA   \n",
       "..              ...         ...         ...               ...   \n",
       "80        TIDAK ADA       TIDAK   TIDAK ADA         TIDAK ADA   \n",
       "81        TIDAK ADA       TIDAK   TIDAK ADA         TIDAK ADA   \n",
       "82        TIDAK ADA       TIDAK   TIDAK ADA         TIDAK ADA   \n",
       "83        TIDAK ADA       TIDAK   TIDAK ADA         TIDAK ADA   \n",
       "84        TIDAK ADA       TIDAK   TIDAK ADA         TIDAK ADA   \n",
       "\n",
       "   status_luaran_lain  \n",
       "0           TIDAK ADA  \n",
       "1           TIDAK ADA  \n",
       "2           TIDAK ADA  \n",
       "3           TIDAK ADA  \n",
       "4           TIDAK ADA  \n",
       "..                ...  \n",
       "80          TIDAK ADA  \n",
       "81          TIDAK ADA  \n",
       "82          TIDAK ADA  \n",
       "83          TIDAK ADA  \n",
       "84          TIDAK ADA  \n",
       "\n",
       "[85 rows x 16 columns]"
      ]
     },
     "execution_count": 102,
     "metadata": {},
     "output_type": "execute_result"
    }
   ],
   "source": [
    "import pandas as pd\n",
    "import numpy as np\n",
    "\n",
    "data = pd.read_excel('data/dataset_quiz.xlsx')\n",
    "data1 = data.copy()\n",
    "\n",
    "data1.head(100)"
   ]
  },
  {
   "cell_type": "markdown",
   "metadata": {},
   "source": [
    "Menghapus Kolum Anggota 5, Setelah itu Pembersihan data NaN dan duplikasi data"
   ]
  },
  {
   "cell_type": "code",
   "execution_count": 103,
   "metadata": {},
   "outputs": [
    {
     "data": {
      "text/plain": [
       "id_ketua              0\n",
       "id_anggota1           0\n",
       "id_anggota2           0\n",
       "id_anggota3           0\n",
       "id_anggota4           0\n",
       "keterlibatan_vltr     0\n",
       "jml_vltr_terlibat     0\n",
       "tahun                 0\n",
       "skema                 0\n",
       "luaran_hki            0\n",
       "jenis_luaran_hki      0\n",
       "potensi_hki           0\n",
       "luaran_lain           0\n",
       "jenis_luaran_lain     0\n",
       "status_luaran_lain    0\n",
       "dtype: int64"
      ]
     },
     "execution_count": 103,
     "metadata": {},
     "output_type": "execute_result"
    }
   ],
   "source": [
    "# Menghapus Kolum Anggota 5\n",
    "del data1['id_anggota5']\n",
    "\n",
    "# Membersihkan kolom null\n",
    "data1 = data1.dropna(how='any',axis=0)\n",
    "pd.isnull(data1).sum()\n"
   ]
  },
  {
   "cell_type": "code",
   "execution_count": 104,
   "metadata": {},
   "outputs": [
    {
     "data": {
      "text/plain": [
       "0"
      ]
     },
     "execution_count": 104,
     "metadata": {},
     "output_type": "execute_result"
    }
   ],
   "source": [
    "data1.duplicated().sum()"
   ]
  },
  {
   "cell_type": "markdown",
   "metadata": {},
   "source": [
    "Penentuan Label"
   ]
  },
  {
   "cell_type": "code",
   "execution_count": 105,
   "metadata": {},
   "outputs": [
    {
     "data": {
      "text/html": [
       "<div>\n",
       "<style scoped>\n",
       "    .dataframe tbody tr th:only-of-type {\n",
       "        vertical-align: middle;\n",
       "    }\n",
       "\n",
       "    .dataframe tbody tr th {\n",
       "        vertical-align: top;\n",
       "    }\n",
       "\n",
       "    .dataframe thead th {\n",
       "        text-align: right;\n",
       "    }\n",
       "</style>\n",
       "<table border=\"1\" class=\"dataframe\">\n",
       "  <thead>\n",
       "    <tr style=\"text-align: right;\">\n",
       "      <th></th>\n",
       "      <th>keterlibatan_vltr</th>\n",
       "      <th>jml_vltr_terlibat</th>\n",
       "      <th>tahun</th>\n",
       "      <th>skema</th>\n",
       "      <th>luaran_hki</th>\n",
       "      <th>jenis_luaran_hki</th>\n",
       "      <th>luaran_lain</th>\n",
       "      <th>jenis_luaran_lain</th>\n",
       "      <th>status_luaran_lain</th>\n",
       "    </tr>\n",
       "  </thead>\n",
       "  <tbody>\n",
       "    <tr>\n",
       "      <th>0</th>\n",
       "      <td>TIDAK</td>\n",
       "      <td>0</td>\n",
       "      <td>2019</td>\n",
       "      <td>REGULER</td>\n",
       "      <td>TIDAK ADA</td>\n",
       "      <td>TIDAK ADA</td>\n",
       "      <td>TIDAK ADA</td>\n",
       "      <td>TIDAK ADA</td>\n",
       "      <td>TIDAK ADA</td>\n",
       "    </tr>\n",
       "    <tr>\n",
       "      <th>1</th>\n",
       "      <td>TIDAK</td>\n",
       "      <td>0</td>\n",
       "      <td>2019</td>\n",
       "      <td>REGULER</td>\n",
       "      <td>TIDAK ADA</td>\n",
       "      <td>TIDAK ADA</td>\n",
       "      <td>TIDAK ADA</td>\n",
       "      <td>TIDAK ADA</td>\n",
       "      <td>TIDAK ADA</td>\n",
       "    </tr>\n",
       "    <tr>\n",
       "      <th>2</th>\n",
       "      <td>TIDAK</td>\n",
       "      <td>0</td>\n",
       "      <td>2019</td>\n",
       "      <td>REGULER</td>\n",
       "      <td>TIDAK ADA</td>\n",
       "      <td>TIDAK ADA</td>\n",
       "      <td>TIDAK ADA</td>\n",
       "      <td>TIDAK ADA</td>\n",
       "      <td>TIDAK ADA</td>\n",
       "    </tr>\n",
       "    <tr>\n",
       "      <th>3</th>\n",
       "      <td>TIDAK</td>\n",
       "      <td>0</td>\n",
       "      <td>2019</td>\n",
       "      <td>REGULER</td>\n",
       "      <td>TIDAK ADA</td>\n",
       "      <td>TIDAK ADA</td>\n",
       "      <td>TIDAK ADA</td>\n",
       "      <td>TIDAK ADA</td>\n",
       "      <td>TIDAK ADA</td>\n",
       "    </tr>\n",
       "    <tr>\n",
       "      <th>4</th>\n",
       "      <td>TIDAK</td>\n",
       "      <td>0</td>\n",
       "      <td>2019</td>\n",
       "      <td>REGULER</td>\n",
       "      <td>TIDAK ADA</td>\n",
       "      <td>TIDAK ADA</td>\n",
       "      <td>TIDAK ADA</td>\n",
       "      <td>TIDAK ADA</td>\n",
       "      <td>TIDAK ADA</td>\n",
       "    </tr>\n",
       "  </tbody>\n",
       "</table>\n",
       "</div>"
      ],
      "text/plain": [
       "  keterlibatan_vltr  jml_vltr_terlibat  tahun    skema luaran_hki  \\\n",
       "0             TIDAK                  0   2019  REGULER  TIDAK ADA   \n",
       "1             TIDAK                  0   2019  REGULER  TIDAK ADA   \n",
       "2             TIDAK                  0   2019  REGULER  TIDAK ADA   \n",
       "3             TIDAK                  0   2019  REGULER  TIDAK ADA   \n",
       "4             TIDAK                  0   2019  REGULER  TIDAK ADA   \n",
       "\n",
       "  jenis_luaran_hki luaran_lain jenis_luaran_lain status_luaran_lain  \n",
       "0        TIDAK ADA   TIDAK ADA         TIDAK ADA          TIDAK ADA  \n",
       "1        TIDAK ADA   TIDAK ADA         TIDAK ADA          TIDAK ADA  \n",
       "2        TIDAK ADA   TIDAK ADA         TIDAK ADA          TIDAK ADA  \n",
       "3        TIDAK ADA   TIDAK ADA         TIDAK ADA          TIDAK ADA  \n",
       "4        TIDAK ADA   TIDAK ADA         TIDAK ADA          TIDAK ADA  "
      ]
     },
     "execution_count": 105,
     "metadata": {},
     "output_type": "execute_result"
    }
   ],
   "source": [
    "X = data1.iloc[:, 5:]\n",
    "del X['potensi_hki']\n",
    "y = data1['potensi_hki']\n",
    "X.head()"
   ]
  },
  {
   "cell_type": "markdown",
   "metadata": {},
   "source": [
    "Cek jumlah data apakah balance atau tidak"
   ]
  },
  {
   "cell_type": "code",
   "execution_count": 106,
   "metadata": {},
   "outputs": [
    {
     "data": {
      "text/plain": [
       "TIDAK    55\n",
       "YA        7\n",
       "SUDAH     4\n",
       "Name: potensi_hki, dtype: int64"
      ]
     },
     "execution_count": 106,
     "metadata": {},
     "output_type": "execute_result"
    }
   ],
   "source": [
    "y.value_counts()"
   ]
  },
  {
   "cell_type": "markdown",
   "metadata": {},
   "source": [
    "Balancing Data"
   ]
  },
  {
   "cell_type": "code",
   "execution_count": null,
   "metadata": {},
   "outputs": [],
   "source": []
  },
  {
   "cell_type": "markdown",
   "metadata": {},
   "source": [
    "Encode Label"
   ]
  },
  {
   "cell_type": "code",
   "execution_count": 107,
   "metadata": {},
   "outputs": [],
   "source": [
    "from sklearn.preprocessing import LabelEncoder\n",
    "encoder = LabelEncoder()\n",
    "def encoding_label(data):\n",
    "    for column in data:\n",
    "        data[column] = encoder.fit_transform(data[column])\n",
    "    return data\n",
    "\n",
    "X = encoding_label(X)\n",
    "y = encoder.fit_transform(y)"
   ]
  },
  {
   "cell_type": "markdown",
   "metadata": {},
   "source": [
    "Split Train dan Test data "
   ]
  },
  {
   "cell_type": "code",
   "execution_count": 108,
   "metadata": {},
   "outputs": [],
   "source": [
    "from sklearn.model_selection import train_test_split\n",
    "\n",
    "X_train, X_test, y_train, y_test = train_test_split(X, y, test_size=0.2, random_state=20)"
   ]
  },
  {
   "cell_type": "markdown",
   "metadata": {},
   "source": [
    "Tunning Hyperparameter Grid Search"
   ]
  },
  {
   "cell_type": "code",
   "execution_count": 109,
   "metadata": {},
   "outputs": [],
   "source": [
    "# Split data Menggunakan RepeatedKFold\n",
    "from sklearn.model_selection import RepeatedKFold\n",
    "\n",
    "# inisiasi repated k-fold\n",
    "cv = RepeatedKFold(n_splits=4, n_repeats=3, random_state=42)"
   ]
  },
  {
   "cell_type": "code",
   "execution_count": 110,
   "metadata": {},
   "outputs": [
    {
     "name": "stdout",
     "output_type": "stream",
     "text": [
      "Hasil evaluasi: 0.9242424242424242\n",
      "Konfigurasi hyperparameter: {'criterion': 'entropy', 'max_depth': 5}\n"
     ]
    }
   ],
   "source": [
    "from sklearn.tree import DecisionTreeClassifier\n",
    "from sklearn.model_selection import GridSearchCV\n",
    "\n",
    "# inisiasi model\n",
    "dt = DecisionTreeClassifier()\n",
    "\n",
    "# Definisikan hyperparameter yang akan digunakan\n",
    "# sklearn menerima dalam bentuk dictionary\n",
    "# nama hyperparamater HARUS SESUAI dengan dokumentasi sklearn\n",
    "params = {\n",
    "    'criterion': ['gini', 'entropy', 'log_loss'],\n",
    "    'max_depth': list(range(5,11))\n",
    "}\n",
    "\n",
    "# inisiasi grid berdasarkan nilai repeated k-fold dan hyperparameter\n",
    "grid = GridSearchCV(dt, param_grid=params, cv=cv)\n",
    "\n",
    "grid.fit(X, y)\n",
    "# Evaluasi dengan score\n",
    "score = grid.score(X,y)\n",
    "\n",
    "print(f'Hasil evaluasi: {score}')\n",
    "print(f'Konfigurasi hyperparameter: {grid.best_params_}')"
   ]
  },
  {
   "cell_type": "markdown",
   "metadata": {},
   "source": [
    "Tunning Hyperparameter Random Search"
   ]
  },
  {
   "cell_type": "code",
   "execution_count": 111,
   "metadata": {},
   "outputs": [
    {
     "name": "stdout",
     "output_type": "stream",
     "text": [
      "Hasil evaluasi: 0.9242424242424242\n",
      "Konfigurasi hyperparameter: {'criterion': 'entropy', 'max_depth': 5}\n"
     ]
    }
   ],
   "source": [
    "from sklearn.model_selection import RandomizedSearchCV\n",
    "\n",
    "random = RandomizedSearchCV(dt, param_distributions=params, cv=cv)\n",
    "\n",
    "random.fit(X,y)\n",
    "# Evaluasi dengan score\n",
    "score = grid.score(X,y)\n",
    "\n",
    "print(f'Hasil evaluasi: {score}')\n",
    "print(f'Konfigurasi hyperparameter: {grid.best_params_}')"
   ]
  },
  {
   "cell_type": "markdown",
   "metadata": {},
   "source": [
    "## Classification \n",
    "Perbandingan menggunakan Random Forest dan SVM"
   ]
  },
  {
   "cell_type": "code",
   "execution_count": 112,
   "metadata": {},
   "outputs": [
    {
     "name": "stdout",
     "output_type": "stream",
     "text": [
      "Test set accuracy: 0.79\n",
      "Test set accuracy: 0.7857142857142857\n",
      "Akurasi (training): 0.9230769230769231\n",
      "Akurasi (testing): 0.7857142857142857\n"
     ]
    }
   ],
   "source": [
    "from sklearn.ensemble import RandomForestClassifier\n",
    "from sklearn.svm import SVC\n",
    "from sklearn.metrics import accuracy_score\n",
    " \n",
    "# Random Forest\n",
    "rf = RandomForestClassifier(n_estimators=10, random_state=1)\n",
    "\n",
    "rf.fit(X_train, y_train)\n",
    "\n",
    "y_pred_rf = rf.predict(X_test)\n",
    "\n",
    "acc_rf = accuracy_score(y_test, y_pred_rf)\n",
    "print(\"Test set accuracy: {:.2f}\".format(acc_rf))\n",
    "print(f\"Test set accuracy: {acc_rf}\")\n",
    "\n",
    "# SVM\n",
    "svc = SVC(kernel=\"linear\")\n",
    "\n",
    "svc.fit(X_train, y_train)\n",
    "\n",
    "# Predict train\n",
    "y_pred_train = svc.predict(X_train)\n",
    "acc_pred_train = accuracy_score(y_train, y_pred_train)\n",
    "\n",
    "# Predict test\n",
    "y_pred_test = svc.predict(X_test)\n",
    "acc_pred_test = accuracy_score(y_test, y_pred_test)\n",
    "\n",
    "# Print Hasil\n",
    "print(f'Akurasi (training): {acc_pred_train}')\n",
    "print(f'Akurasi (testing): {acc_pred_test}')"
   ]
  }
 ],
 "metadata": {
  "kernelspec": {
   "display_name": "Python 3.10.7 64-bit",
   "language": "python",
   "name": "python3"
  },
  "language_info": {
   "codemirror_mode": {
    "name": "ipython",
    "version": 3
   },
   "file_extension": ".py",
   "mimetype": "text/x-python",
   "name": "python",
   "nbconvert_exporter": "python",
   "pygments_lexer": "ipython3",
   "version": "3.10.7"
  },
  "orig_nbformat": 4,
  "vscode": {
   "interpreter": {
    "hash": "e2bd553e7001daf5eeb69e1661d0b9033f7a52c956da7d0f70fc9bc4480b30bf"
   }
  }
 },
 "nbformat": 4,
 "nbformat_minor": 2
}
